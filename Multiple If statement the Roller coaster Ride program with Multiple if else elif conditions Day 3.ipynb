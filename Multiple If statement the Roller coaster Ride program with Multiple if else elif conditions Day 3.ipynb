{
 "cells": [
  {
   "cell_type": "markdown",
   "metadata": {},
   "source": [
    "# Day 3 \n",
    "Multiple If statement the Roller coaster Ride program with Multiple if else elif conditions Day 3"
   ]
  },
  {
   "cell_type": "code",
   "execution_count": 46,
   "metadata": {},
   "outputs": [
    {
     "name": "stdout",
     "output_type": "stream",
     "text": [
      "welcome to the Roller coster ride\n",
      "Enter your height: 110\n",
      "Sorry try next time\n"
     ]
    }
   ],
   "source": [
    "print(\"welcome to the Roller coster ride\")\n",
    "bill = 0\n",
    "height= int(input(\"Enter your height: \"))\n",
    "if height>=120:\n",
    "    print(\"You can take the ride\")\n",
    "    age = int(input(\"Enter your age  \"))\n",
    "    if age <12:\n",
    "        bill= 5\n",
    "        print(\"Pay $ 5\")\n",
    "    elif age <=18:\n",
    "            bill= 7\n",
    "            print(\"Pay $ 7\")\n",
    "    else:\n",
    "            bill =12\n",
    "            print(\"Pay $12\")\n",
    "    photo = input(\"Do you want photo Y for Yes, N for No :\")\n",
    "    if photo == \"y\":\n",
    "        bill+=3\n",
    "    print(f\"your final bill is ${bill}\")\n",
    "else:\n",
    "    print(\"Sorry try next time\")\n",
    "    "
   ]
  },
  {
   "cell_type": "code",
   "execution_count": null,
   "metadata": {},
   "outputs": [],
   "source": []
  },
  {
   "cell_type": "code",
   "execution_count": null,
   "metadata": {},
   "outputs": [],
   "source": []
  }
 ],
 "metadata": {
  "kernelspec": {
   "display_name": "Python 3",
   "language": "python",
   "name": "python3"
  },
  "language_info": {
   "codemirror_mode": {
    "name": "ipython",
    "version": 3
   },
   "file_extension": ".py",
   "mimetype": "text/x-python",
   "name": "python",
   "nbconvert_exporter": "python",
   "pygments_lexer": "ipython3",
   "version": "3.8.3"
  }
 },
 "nbformat": 4,
 "nbformat_minor": 4
}
